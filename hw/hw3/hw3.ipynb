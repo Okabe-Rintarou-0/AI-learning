{
 "metadata": {
  "kernelspec": {
   "language": "python",
   "display_name": "Python 3",
   "name": "python3"
  },
  "language_info": {
   "name": "python",
   "version": "3.7.12",
   "mimetype": "text/x-python",
   "codemirror_mode": {
    "name": "ipython",
    "version": 3
   },
   "pygments_lexer": "ipython3",
   "nbconvert_exporter": "python",
   "file_extension": ".py"
  }
 },
 "nbformat_minor": 4,
 "nbformat": 4,
 "cells": [
  {
   "cell_type": "markdown",
   "source": "# **Homework 3 - Convolutional Neural Network**\n\nThis is the example code of homework 3 of the machine learning course by Prof. Hung-yi Lee.\n\nIn this homework, you are required to build a convolutional neural network for image classification, possibly with some advanced training tips.\n\n\nThere are three levels here:\n\n**Easy**: Build a simple convolutional neural network as the baseline. (2 pts)\n\n**Medium**: Design a better architecture or adopt different data augmentations to improve the performance. (2 pts)\n\n**Hard**: Utilize provided unlabeled data to obtain better results. (2 pts)",
   "metadata": {
    "id": "D_a2USyd4giE"
   }
  },
  {
   "cell_type": "code",
   "source": "!pip install torchsummary",
   "metadata": {
    "execution": {
     "iopub.status.busy": "2022-11-29T01:54:32.475109Z",
     "iopub.execute_input": "2022-11-29T01:54:32.476040Z",
     "iopub.status.idle": "2022-11-29T01:54:34.456553Z",
     "shell.execute_reply.started": "2022-11-29T01:54:32.476005Z",
     "shell.execute_reply": "2022-11-29T01:54:34.455725Z"
    },
    "trusted": true
   },
   "execution_count": null,
   "outputs": []
  },
  {
   "cell_type": "markdown",
   "source": "## **About the Dataset**\n\nThe dataset used here is food-11, a collection of food images in 11 classes.\n\nFor the requirement in the homework, TAs slightly modified the data.\nPlease DO NOT access the original fully-labeled training data or testing labels.\n\nAlso, the modified dataset is for this course only, and any further distribution or commercial use is forbidden.",
   "metadata": {
    "id": "VHpJocsDr6iA"
   }
  },
  {
   "cell_type": "markdown",
   "source": "## **Import Packages**\n\nFirst, we need to import packages that will be used later.\n\nIn this homework, we highly rely on **torchvision**, a library of PyTorch.",
   "metadata": {
    "id": "BBVSCWWhp6uq"
   }
  },
  {
   "cell_type": "code",
   "source": "# Import necessary packages.\nimport numpy as np\nimport torch\nimport cv2\nimport torch.nn as nn\nimport torchvision.transforms as transforms\n\nfrom torch.optim.lr_scheduler import CosineAnnealingLR, CosineAnnealingWarmRestarts\nfrom PIL import Image\n# \"ConcatDataset\" and \"Subset\" are possibly useful when doing semi-supervised learning.\nfrom torch.utils.data import ConcatDataset, DataLoader, Subset, Dataset\nfrom torchvision.datasets import DatasetFolder\nimport torchvision.models\n\n# This is for the progress bar.\nfrom tqdm.auto import tqdm\n\n# This is for mixup\nfrom torch.utils.data.dataloader import default_collate",
   "metadata": {
    "id": "9sVrKci4PUFW",
    "execution": {
     "iopub.status.busy": "2022-11-29T01:54:34.458485Z",
     "iopub.execute_input": "2022-11-29T01:54:34.458873Z",
     "iopub.status.idle": "2022-11-29T01:54:34.464960Z",
     "shell.execute_reply.started": "2022-11-29T01:54:34.458838Z",
     "shell.execute_reply": "2022-11-29T01:54:34.464206Z"
    },
    "trusted": true
   },
   "execution_count": null,
   "outputs": []
  },
  {
   "cell_type": "code",
   "source": "from multiprocessing import cpu_count\nnum_workers = 0",
   "metadata": {
    "execution": {
     "iopub.status.busy": "2022-11-29T01:54:34.466061Z",
     "iopub.execute_input": "2022-11-29T01:54:34.466365Z",
     "iopub.status.idle": "2022-11-29T01:54:34.480576Z",
     "shell.execute_reply.started": "2022-11-29T01:54:34.466336Z",
     "shell.execute_reply": "2022-11-29T01:54:34.479758Z"
    },
    "trusted": true
   },
   "execution_count": null,
   "outputs": []
  },
  {
   "cell_type": "markdown",
   "source": "# Helper functions",
   "metadata": {}
  },
  {
   "cell_type": "code",
   "source": "from torch import Tensor\nfrom typing import Tuple\n\ndef one_hot(x: Tensor, num_classes:int, on_value=1., off_value=0.):\n    x = x.long().view(-1, 1)\n    return torch.full((x.size()[0], num_classes), off_value).scatter_(1, x, on_value)\n\ndef smooth_one_hot(target: Tensor, num_classes:int, smoothing:float = 0.1):\n    off_value = smoothing / num_classes\n    on_value = 1. - smoothing + off_value\n    return one_hot(target, num_classes, on_value=on_value, off_value=off_value)\n\n# from https://github.com/pytorch/vision/blob/main/references/classification/transforms.py\n# With label smoothing\nclass RandomMixup(torch.nn.Module):\n    \"\"\"Randomly apply Mixup to the provided batch and targets.\n    The class implements the data augmentations as described in the paper\n    `\"mixup: Beyond Empirical Risk Minimization\" <https://arxiv.org/abs/1710.09412>`_.\n    Args:\n        num_classes (int): number of classes used for one-hot encoding.\n        p (float): probability of the batch being transformed. Default value is 0.5.\n        alpha (float): hyperparameter of the Beta distribution used for mixup.\n            Default value is 1.0. # beta 分布超参数\n        inplace (bool): boolean to make this transform inplace. Default set to False.\n    \"\"\"\n\n    def __init__(self, num_classes: int, p: float = 0.5, alpha: float = 1.0, inplace: bool = False) -> None:\n        super().__init__()\n        assert num_classes > 0, \"Please provide a valid positive value for the num_classes.\"\n        assert alpha > 0, \"Alpha param can't be zero.\"\n\n        self.num_classes = num_classes\n        self.p = p\n        self.alpha = alpha\n        self.inplace = inplace\n\n    def forward(self, batch: Tensor, target: Tensor) -> Tuple[Tensor, Tensor]:\n        \"\"\"\n        Args:\n            batch (Tensor): Float tensor of size (B, C, H, W)\n            target (Tensor): Integer tensor of size (B, )\n        Returns:\n            Tensor: Randomly transformed batch.\n        \"\"\"\n        if batch.ndim != 4:\n            raise ValueError(f\"Batch ndim should be 4. Got {batch.ndim}\")\n        if target.ndim != 1:\n            raise ValueError(f\"Target ndim should be 1. Got {target.ndim}\")\n        if not batch.is_floating_point():\n            raise TypeError(f\"Batch dtype should be a float tensor. Got {batch.dtype}.\")\n        if target.dtype != torch.int64:\n            raise TypeError(f\"Target dtype should be torch.int64. Got {target.dtype}\")\n\n        if not self.inplace:\n            batch = batch.clone()\n            target = target.clone()\n  \n        # 建立one-hot标签\n        if target.ndim == 1:\n            target = smooth_one_hot(target, num_classes=self.num_classes).to(dtype=batch.dtype)\n  \n        # 判断是否进行mixup\n        if torch.rand(1).item() >= self.p:\n            return batch, target\n  \n        # 这里将batch数据平移一个单位，产生mixup的图像对，这意味着每个图像与相邻的下一个图像进行mixup\n        # timm实现是通过flip来做的，这意味着第一个图像和最后一个图像进行mixup\n        # It's faster to roll the batch by one instead of shuffling it to create image pairs\n        batch_rolled = batch.roll(1, 0)\n        target_rolled = target.roll(1, 0)\n  \n        # 随机生成组合系数\n        # Implemented as on mixup paper, page 3.\n        lambda_param = float(torch._sample_dirichlet(torch.tensor([self.alpha, self.alpha]))[0])\n        batch_rolled.mul_(1.0 - lambda_param)\n        batch.mul_(lambda_param).add_(batch_rolled) # 得到mixup后的图像\n\n        target_rolled.mul_(1.0 - lambda_param)\n        target.mul_(lambda_param).add_(target_rolled) # 得到mixup后的标签\n\n        return batch, target",
   "metadata": {
    "execution": {
     "iopub.status.busy": "2022-11-29T01:54:34.482902Z",
     "iopub.execute_input": "2022-11-29T01:54:34.483154Z",
     "iopub.status.idle": "2022-11-29T01:54:34.497906Z",
     "shell.execute_reply.started": "2022-11-29T01:54:34.483131Z",
     "shell.execute_reply": "2022-11-29T01:54:34.497059Z"
    },
    "trusted": true
   },
   "execution_count": null,
   "outputs": []
  },
  {
   "cell_type": "markdown",
   "source": "## **Dataset, Data Loader, and Transforms**\n\nTorchvision provides lots of useful utilities for image preprocessing, data wrapping as well as data augmentation.\n\nHere, since our data are stored in folders by class labels, we can directly apply **torchvision.datasets.DatasetFolder** for wrapping data without much effort.\n\nPlease refer to [PyTorch official website](https://pytorch.org/vision/stable/transforms.html) for details about different transforms.",
   "metadata": {
    "id": "F0i9ZCPrOVN_"
   }
  },
  {
   "cell_type": "code",
   "source": "# It is important to do data augmentation in training.\n# However, not every augmentation is useful.\n# Please think about what kind of augmentation is helpful for food recognition.\ntrain_tfm = transforms.Compose([\n    transforms.RandomResizedCrop((128, 128)),\n    transforms.RandomChoice(\n        [transforms.AutoAugment(),\n        transforms.AutoAugment(transforms.AutoAugmentPolicy.CIFAR10),\n        transforms.AutoAugment(transforms.AutoAugmentPolicy.SVHN)]\n    ),\n    transforms.RandomHorizontalFlip(p=0.5),\n    transforms.ColorJitter(brightness=0.5),\n    transforms.RandomAffine(degrees=20, translate=(0.2, 0.2), scale=(0.7, 1.3)),\n    transforms.ToTensor()\n])\n\nto_tensor_tfm = transforms.Compose([\n    transforms.Resize((128, 128)),\n    transforms.ToTensor(),\n])\n\n# We don't need augmentations in testing and validation.\n# All we need here is to resize the PIL image and transform it into Tensor.\ntest_tfm = transforms.Compose([\n    transforms.Resize((128, 128)),\n    transforms.ToTensor(),\n])\n",
   "metadata": {
    "id": "gKd2abixQghI",
    "execution": {
     "iopub.status.busy": "2022-11-29T01:54:34.499159Z",
     "iopub.execute_input": "2022-11-29T01:54:34.499495Z",
     "iopub.status.idle": "2022-11-29T01:54:34.511865Z",
     "shell.execute_reply.started": "2022-11-29T01:54:34.499464Z",
     "shell.execute_reply": "2022-11-29T01:54:34.511189Z"
    },
    "trusted": true
   },
   "execution_count": null,
   "outputs": []
  },
  {
   "cell_type": "code",
   "source": "# Batch size for training, validation, and testing.\n# A greater batch size usually gives a more stable gradient.\n# But the GPU memory is limited, so please adjust it carefully.\nbatch_size = 128\ninitial_lr = 0.0003\nnum_classes = 11\n\ninput_dir = '/kaggle/input/ml2021spring-hw3'\n\n# Construct datasets.\n# The argument \"loader\" tells how torchvision reads the data.\ntrain_set = DatasetFolder(input_dir + \"/food-11/training/labeled\", loader=lambda x: Image.open(x), extensions=\"jpg\", transform=train_tfm)\nvalid_set = DatasetFolder(input_dir + \"/food-11/validation\", loader=lambda x: Image.open(x), extensions=\"jpg\", transform=test_tfm)\nunlabeled_set = DatasetFolder(input_dir + \"/food-11/training/unlabeled\", loader=lambda x: Image.open(x), extensions=\"jpg\", transform=train_tfm)\ntest_set = DatasetFolder(input_dir + \"/food-11/testing\", loader=lambda x: Image.open(x), extensions=\"jpg\", transform=test_tfm)\n\n# Prepare for mixup\nmixup_alpha = 1.0\n\nmixup_set = DatasetFolder(input_dir + \"/food-11/training/labeled\", loader=lambda x: Image.open(x), extensions=\"jpg\", transform=to_tensor_tfm)\nmixup_transform = RandomMixup(num_classes, p=1.0, alpha=mixup_alpha)\ncollate_fn = lambda batch: mixup_transform(*default_collate(batch))\nmixup_loader = DataLoader(mixup_set, batch_size=batch_size, collate_fn=collate_fn)\n    \n# Construct data loaders.\ntrain_loader = DataLoader(train_set, batch_size=batch_size, shuffle=True, num_workers=num_workers, pin_memory=True)\nvalid_loader = DataLoader(valid_set, batch_size=batch_size, shuffle=True, num_workers=num_workers, pin_memory=True)\ntest_loader = DataLoader(test_set, batch_size=batch_size, shuffle=False)",
   "metadata": {
    "id": "qz6jeMnkQl0_",
    "execution": {
     "iopub.status.busy": "2022-11-29T01:54:34.512987Z",
     "iopub.execute_input": "2022-11-29T01:54:34.513229Z",
     "iopub.status.idle": "2022-11-29T01:54:36.467818Z",
     "shell.execute_reply.started": "2022-11-29T01:54:34.513207Z",
     "shell.execute_reply": "2022-11-29T01:54:36.467150Z"
    },
    "trusted": true
   },
   "execution_count": null,
   "outputs": []
  },
  {
   "cell_type": "markdown",
   "source": "## **Model**\n\nThe basic model here is simply a stack of convolutional layers followed by some fully-connected layers.\n\nSince there are three channels for a color image (RGB), the input channels of the network must be three.\nIn each convolutional layer, typically the channels of inputs grow, while the height and width shrink (or remain unchanged, according to some hyperparameters like stride and padding).\n\nBefore fed into fully-connected layers, the feature map must be flattened into a single one-dimensional vector (for each image).\nThese features are then transformed by the fully-connected layers, and finally, we obtain the \"logits\" for each class.\n\n### **WARNING -- You Must Know**\nYou are free to modify the model architecture here for further improvement.\nHowever, if you want to use some well-known architectures such as ResNet50, please make sure **NOT** to load the pre-trained weights.\nUsing such pre-trained models is considered cheating and therefore you will be punished.\nSimilarly, it is your responsibility to make sure no pre-trained weights are used if you use **torch.hub** to load any modules.\n\nFor example, if you use ResNet-18 as your model:\n\nmodel = torchvision.models.resnet18(pretrained=**False**) → This is fine.\n\nmodel = torchvision.models.resnet18(pretrained=**True**)  → This is **NOT** allowed.",
   "metadata": {
    "id": "j9YhZo7POPYG"
   }
  },
  {
   "cell_type": "markdown",
   "source": "## **Training**\n\nYou can finish supervised learning by simply running the provided code without any modification.\n\nThe function \"get_pseudo_labels\" is used for semi-supervised learning.\nIt is expected to get better performance if you use unlabeled data for semi-supervised learning.\nHowever, you have to implement the function on your own and need to adjust several hyperparameters manually.\n\nFor more details about semi-supervised learning, please refer to [Prof. Lee's slides](https://speech.ee.ntu.edu.tw/~tlkagk/courses/ML_2016/Lecture/semi%20(v3).pdf).\n\nAgain, please notice that utilizing external data (or pre-trained model) for training is **prohibited**.",
   "metadata": {
    "id": "aEnGbriXORN3"
   }
  },
  {
   "cell_type": "code",
   "source": "class PseudoDataset(Dataset):\n    def __init__(self, x, y):\n        self.x = x\n        self.y = y\n\n    def __len__(self):\n        return len(self.y)\n\n    def __getitem__(self, id):\n        return self.x[id][0], self.y[id]\n\ndef get_pseudo_labels(dataset, model, threshold=0.9):\n    device = \"cuda\" if torch.cuda.is_available() else \"cpu\"\n\n    data_loader = DataLoader(dataset, batch_size=batch_size, shuffle=False)\n\n    model.eval()\n    softmax = nn.Softmax(dim=-1)\n\n    idx = []\n    labels = []\n\n    for i, batch in enumerate(data_loader):\n        img, _ = batch\n        with torch.no_grad():\n            logits = model(img.to(device))\n        probs = softmax(logits)\n\n        for j, x in enumerate(probs):\n            if torch.max(x) > threshold:\n                idx.append(i * batch_size + j)\n                labels.append(int(torch.argmax(x)))\n\n    model.train()\n    print (\"\\nNew data: {:5d}\\n\".format(len(idx)))\n    dataset = PseudoDataset(Subset(dataset, idx), labels)\n    return dataset",
   "metadata": {
    "id": "swlf5EwA-hxA",
    "execution": {
     "iopub.status.busy": "2022-11-29T01:54:36.469610Z",
     "iopub.execute_input": "2022-11-29T01:54:36.469930Z",
     "iopub.status.idle": "2022-11-29T01:54:36.479080Z",
     "shell.execute_reply.started": "2022-11-29T01:54:36.469899Z",
     "shell.execute_reply": "2022-11-29T01:54:36.478273Z"
    },
    "trusted": true
   },
   "execution_count": null,
   "outputs": []
  },
  {
   "cell_type": "code",
   "source": "import torchvision.models as models\nimport os\n\nbest_loss = float('inf')\nbest_acc = 0\nmodel_path = 'best_model.pth'\n\n# if os.path.exists('best_loss.txt'):\n#     with open('best_loss.txt', 'r') as f:\n#         best_loss = float(f.read())\n#         print('read best loss:', best_loss)\n        \n# if os.path.exists('best_acc.txt'):\n#     with open('best_acc.txt', 'r') as f:\n#         best_acc = float(f.read())\n#         print('read best acc:', best_acc)\n\n# \"cuda\" only when GPUs are available.\ndevice = \"cuda\" if torch.cuda.is_available() else \"cpu\"\n\n# Initialize a model, and put it on the device specified.\nmodel = models.resnet18(pretrained=True).to(device)\nnum_ftrs = model.fc.in_features\nmodel.fc = nn.Linear(num_ftrs, num_classes).to(device)\nmodel.device = device\n\nimport torchsummary\ntorchsummary.summary(model, (3, 128, 128))\n\nif os.path.exists(model_path):\n    print(\"Detect pretrained model from %s\" % model_path)\n    model.load_state_dict(torch.load(model_path, map_location=device))\n\n# For the classification task, we use cross-entropy as the measurement of performance.\ncriterion = nn.CrossEntropyLoss()\n\n# Initialize optimizer, you may fine-tune some hyperparameters such as learning rate on your own.\noptimizer = torch.optim.Adam(model.parameters(), lr=initial_lr, weight_decay=1e-5)\n# scheduler = CosineAnnealingWarmRestarts(optimizer, T_0=5)\n# The number of training epochs.\nn_epochs = 800\n\n# Whether to do semi-supervised learning.\ndo_semi = True\ndo_mixup = False\n\ntrain_loss_record = []\nvalid_loss_record = []\ntrain_acc_record = []\nvalid_acc_record = []\n\nfor epoch in range(n_epochs):\n    # ---------- TODO ----------\n    # In each epoch, relabel the unlabeled dataset for semi-supervised learning.\n    # Then you can combine the labeled dataset and pseudo-labeled dataset for the training.\n    if do_semi and best_acc > 0.7 and epoch % 5 == 0:\n        # Obtain pseudo-labels for unlabeled data using trained model.\n        pseudo_set = get_pseudo_labels(unlabeled_set, model)\n        # Construct a new dataset and a data loader for training.\n        # This is used in semi-supervised learning only.\n        concat_dataset = ConcatDataset([train_set, pseudo_set])\n        train_loader = DataLoader(concat_dataset, batch_size=batch_size, shuffle=True, num_workers=num_workers, pin_memory=True, drop_last=True)\n    \n    # ---------- Training ----------\n    # Make sure the model is in train mode before training.\n    model.train()\n    \n    # These are used to record information in training.\n    train_loss = []\n    train_accs = []\n\n    # Iterate the training set by batches.\n    for batch in tqdm(train_loader, desc=\"Training round(No mixup)\"):\n        \n        # A batch consists of image data and corresponding labels.\n        imgs, labels = batch\n        \n        labels = smooth_one_hot(labels, num_classes)\n\n        # Forward the data. (Make sure data and model are on the same device.)\n        logits = model(imgs.to(device))\n\n        # Calculate the cross-entropy loss.\n        # We don't need to apply softmax before computing cross-entropy as it is done automatically.\n        loss = criterion(logits, labels.to(device))\n\n        # Gradients stored in the parameters in the previous step should be cleared out first.\n        optimizer.zero_grad()\n\n        # Compute the gradients for parameters.\n        loss.backward()\n\n        # Clip the gradient norms for stable training.\n        grad_norm = nn.utils.clip_grad_norm_(model.parameters(), max_norm=10)\n\n        # Update the parameters with computed gradients.\n        optimizer.step()\n#         scheduler.step()\n\n        # Compute the accuracy for current batch.\n        acc = (logits.argmax(dim=-1) == labels.to(device).argmax(dim=-1)).float().mean()\n\n        # Record the loss and accuracy.\n        train_loss.append(loss.item())\n        train_accs.append(acc)\n\n    # The average loss and accuracy of the training set is the average of the recorded values.\n    train_loss = sum(train_loss) / len(train_loss)\n    train_acc = sum(train_accs) / len(train_accs)\n\n    # Print the information.\n    print(f\"[ Train(no mixup) | {epoch + 1:03d}/{n_epochs:03d} ] loss = {train_loss:.5f}, acc = {train_acc:.5f}\")\n    \n    if do_mixup and epoch % 5 == 0:\n        train_loss = []\n        train_accs = []\n        # Iterate the training set by batches.\n        for batch in tqdm(mixup_loader, desc=\"Training round(Mixup)\"):\n\n            # A batch consists of image data and corresponding labels.\n            imgs, labels = batch\n\n            # Forward the data. (Make sure data and model are on the same device.)\n            logits = model(imgs.to(device))\n\n            # Calculate the cross-entropy loss.\n            # We don't need to apply softmax before computing cross-entropy as it is done automatically.\n            loss = criterion(logits, labels.to(device))\n\n            # Gradients stored in the parameters in the previous step should be cleared out first.\n            optimizer.zero_grad()\n\n            # Compute the gradients for parameters.\n            loss.backward()\n\n            # Clip the gradient norms for stable training.\n            grad_norm = nn.utils.clip_grad_norm_(model.parameters(), max_norm=10)\n\n            # Update the parameters with computed gradients.\n            optimizer.step()\n    #         scheduler.step()\n\n            # Compute the accuracy for current batch.\n            acc = (logits.argmax(dim=-1) == labels.to(device).argmax(dim=-1)).float().mean()\n\n            # Record the loss and accuracy.\n            train_loss.append(loss.item())\n            train_accs.append(acc)\n\n        # The average loss and accuracy of the training set is the average of the recorded values.\n        train_loss = sum(train_loss) / len(train_loss)\n        train_acc = sum(train_accs) / len(train_accs)\n\n        # Print the information.\n        print(f\"[ Train(with mixup) | {epoch + 1:03d}/{n_epochs:03d} ] loss = {train_loss:.5f}, acc = {train_acc:.5f}\")\n\n    # ---------- Validation ----------\n    # Make sure the model is in eval mode so that some modules like dropout are disabled and work normally.\n    model.eval()\n\n    # These are used to record information in validation.\n    valid_loss = []\n    valid_accs = []\n\n    # Iterate the validation set by batches.\n    for batch in tqdm(valid_loader, desc=\"Validation round\"):\n\n        # A batch consists of image data and corresponding labels.\n        imgs, labels = batch\n\n        # We don't need gradient in validation.\n        # Using torch.no_grad() accelerates the forward process.\n        with torch.no_grad():\n          logits = model(imgs.to(device))\n\n        # We can still compute the loss (but not the gradient).\n        loss = criterion(logits, labels.to(device))\n\n        # Compute the accuracy for current batch.\n        acc = (logits.argmax(dim=-1) == labels.to(device)).float().mean()\n\n        # Record the loss and accuracy.\n        valid_loss.append(loss.item())\n        valid_accs.append(acc)\n\n    # The average loss and accuracy for entire validation set is the average of the recorded values.\n    valid_loss = sum(valid_loss) / len(valid_loss)\n    valid_acc = sum(valid_accs) / len(valid_accs)\n        \n\n    # Print the information.\n    print(f\"[ Valid | {epoch + 1:03d}/{n_epochs:03d} ] loss = {valid_loss:.5f}, acc = {valid_acc:.5f}\")\n    \n    if valid_acc > best_acc:\n        best_loss = valid_loss\n        best_acc = valid_acc\n        with open(\"best_acc.txt\", \"w\") as acc_f:\n            acc_f.write(str(float(valid_acc)))\n        with open(\"best_loss.txt\", \"w\") as loss_f:\n            loss_f.write(str(float(valid_loss)))\n                \n        print(\"Save model\")\n        torch.save(model.state_dict(), model_path)",
   "metadata": {
    "id": "PHaFE-8oQtkC",
    "execution": {
     "iopub.status.busy": "2022-11-29T01:54:36.480140Z",
     "iopub.execute_input": "2022-11-29T01:54:36.480856Z",
     "iopub.status.idle": "2022-11-29T01:54:36.841079Z",
     "shell.execute_reply.started": "2022-11-29T01:54:36.480824Z",
     "shell.execute_reply": "2022-11-29T01:54:36.839412Z"
    },
    "trusted": true
   },
   "execution_count": null,
   "outputs": []
  },
  {
   "cell_type": "code",
   "source": "torch.save(model.state_dict(), \"last_model.pth\")",
   "metadata": {
    "execution": {
     "iopub.status.busy": "2022-11-29T01:54:36.842307Z",
     "iopub.status.idle": "2022-11-29T01:54:36.842750Z",
     "shell.execute_reply.started": "2022-11-29T01:54:36.842509Z",
     "shell.execute_reply": "2022-11-29T01:54:36.842529Z"
    },
    "trusted": true
   },
   "execution_count": null,
   "outputs": []
  },
  {
   "cell_type": "markdown",
   "source": "# Visualize Result",
   "metadata": {}
  },
  {
   "cell_type": "code",
   "source": "import matplotlib.pyplot as plt\n\nx = np.arange(len(train_acc_record))\nplt.plot(x, train_acc_record, color=\"blue\", label=\"Train\")\nplt.plot(x, valid_acc_record, color=\"red\", label=\"Valid\")\nplt.legend(loc=\"upper right\")\n# plt.show()\nplt.savefig('train_acc.png')\n\nimport matplotlib.pyplot as plt\n\nx = np.arange(len(train_loss_record))\nplt.plot(x, train_loss_record, color=\"blue\", label=\"Train\")\nplt.plot(x, valid_loss_record, color=\"red\", label=\"Valid\")\nplt.legend(loc=\"upper right\") \n# plt.show()\nplt.savefig('train_loss.png')",
   "metadata": {
    "execution": {
     "iopub.status.busy": "2022-11-29T01:54:36.843766Z",
     "iopub.status.idle": "2022-11-29T01:54:36.844175Z",
     "shell.execute_reply.started": "2022-11-29T01:54:36.843956Z",
     "shell.execute_reply": "2022-11-29T01:54:36.843976Z"
    },
    "trusted": true
   },
   "execution_count": null,
   "outputs": []
  },
  {
   "cell_type": "markdown",
   "source": "## **Testing**\n\nFor inference, we need to make sure the model is in eval mode, and the order of the dataset should not be shuffled (\"shuffle=False\" in test_loader).\n\nLast but not least, don't forget to save the predictions into a single CSV file.\nThe format of CSV file should follow the rules mentioned in the slides.\n\n### **WARNING -- Keep in Mind**\n\nCheating includes but not limited to:\n1.   using testing labels,\n2.   submitting results to previous Kaggle competitions,\n3.   sharing predictions with others,\n4.   copying codes from any creatures on Earth,\n5.   asking other people to do it for you.\n\nAny violations bring you punishments from getting a discount on the final grade to failing the course.\n\nIt is your responsibility to check whether your code violates the rules.\nWhen citing codes from the Internet, you should know what these codes exactly do.\nYou will **NOT** be tolerated if you break the rule and claim you don't know what these codes do.\n",
   "metadata": {
    "id": "2o1oCMXy61_3"
   }
  },
  {
   "cell_type": "markdown",
   "source": "# Without TTA",
   "metadata": {}
  },
  {
   "cell_type": "code",
   "source": "# Make sure the model is in eval mode.\n# Some modules like Dropout or BatchNorm affect if the model is in training mode.\nmodel_path = '/kaggle/input/hw3model2/model_wo_mixup.pth'\nmodel.load_state_dict(torch.load(model_path, map_location=device))\n\nmodel.eval()\n\n# Initialize a list to store the predictions.\npredictions = []\n\n# Iterate the testing set by batches.\nfor batch in tqdm(test_loader):\n    # A batch consists of image data and corresponding labels.\n    # But here the variable \"labels\" is useless since we do not have the ground-truth.\n    # If printing out the labels, you will find that it is always 0.\n    # This is because the wrapper (DatasetFolder) returns images and labels for each batch,\n    # so we have to create fake labels to make it work normally.\n    imgs, labels = batch\n\n    # We don't need gradient in testing, and we don't even have labels to compute loss.\n    # Using torch.no_grad() accelerates the forward process.\n    with torch.no_grad():\n        logits = model(imgs.to(device))\n\n    # Take the class with greatest logit as prediction and record it.\n    predictions.extend(logits.argmax(dim=-1).cpu().numpy().tolist())",
   "metadata": {
    "id": "4HznI9_-ocrq",
    "execution": {
     "iopub.status.busy": "2022-11-29T01:54:36.845688Z",
     "iopub.status.idle": "2022-11-29T01:54:36.846129Z",
     "shell.execute_reply.started": "2022-11-29T01:54:36.845904Z",
     "shell.execute_reply": "2022-11-29T01:54:36.845925Z"
    },
    "trusted": true
   },
   "execution_count": null,
   "outputs": []
  },
  {
   "cell_type": "markdown",
   "source": "# Using TTA",
   "metadata": {}
  },
  {
   "cell_type": "code",
   "source": "# !pip install pytorch_toolbelt\nfrom pytorch_toolbelt.inference import tta\n\n# Make sure the model is in eval mode.\n# Some modules like Dropout or BatchNorm affect if the model is in training mode.\nmodel_path = '/kaggle/input/hw3model2/model_w_mixup.pth'\nmodel.load_state_dict(torch.load(model_path, map_location=device))\n\nmodel.eval()\n\n# Initialize a list to store the predictions.\npredictions = []\n\n# Iterate the testing set by batches.\nfor batch in tqdm(test_loader):\n    # A batch consists of image data and corresponding labels.\n    # But here the variable \"labels\" is useless since we do not have the ground-truth.\n    # If printing out the labels, you will find that it is always 0.\n    # This is because the wrapper (DatasetFolder) returns images and labels for each batch,\n    # so we have to create fake labels to make it work normally.\n    imgs, labels = batch\n\n    # We don't need gradient in testing, and we don't even have labels to compute loss.\n    # Using torch.no_grad() accelerates the forward process.\n    with torch.no_grad():\n        # Truly functional TTA for image classification using horizontal flips:\n        logits = tta.fliplr_image2label(model, imgs)\n\n    # Take the class with greatest logit as prediction and record it.\n    predictions.extend(logits.argmax(dim=-1).cpu().numpy().tolist())",
   "metadata": {
    "execution": {
     "iopub.status.busy": "2022-11-29T02:01:18.406289Z",
     "iopub.execute_input": "2022-11-29T02:01:18.406610Z"
    },
    "trusted": true
   },
   "execution_count": null,
   "outputs": []
  },
  {
   "cell_type": "code",
   "source": "# Save predictions into the file.\nwith open(\"predict_w_mixup_w_tta.csv\", \"w\") as f:\n\n    # The first row must be \"Id, Category\"\n    f.write(\"Id,Category\\n\")\n\n    # For the rest of the rows, each image id corresponds to a predicted class.\n    for i, pred in  enumerate(predictions):\n         f.write(f\"{i},{pred}\\n\")",
   "metadata": {
    "id": "3t2q2Th85ZUE",
    "execution": {
     "iopub.status.busy": "2022-11-29T01:58:22.822767Z",
     "iopub.execute_input": "2022-11-29T01:58:22.823139Z",
     "iopub.status.idle": "2022-11-29T01:58:22.830299Z",
     "shell.execute_reply.started": "2022-11-29T01:58:22.823108Z",
     "shell.execute_reply": "2022-11-29T01:58:22.829664Z"
    },
    "trusted": true
   },
   "execution_count": null,
   "outputs": []
  }
 ]
}