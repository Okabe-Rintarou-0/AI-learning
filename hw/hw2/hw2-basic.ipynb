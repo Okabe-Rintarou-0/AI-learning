{
 "metadata": {
  "kernelspec": {
   "language": "python",
   "display_name": "Python 3",
   "name": "python3"
  },
  "language_info": {
   "pygments_lexer": "ipython3",
   "nbconvert_exporter": "python",
   "version": "3.6.4",
   "file_extension": ".py",
   "codemirror_mode": {
    "name": "ipython",
    "version": 3
   },
   "name": "python",
   "mimetype": "text/x-python"
  }
 },
 "nbformat_minor": 4,
 "nbformat": 4,
 "cells": [
  {
   "cell_type": "markdown",
   "source": [
    "# Read and prepare for the data"
   ],
   "metadata": {}
  },
  {
   "cell_type": "code",
   "source": [
    "# some global import\n",
    "import torch\n",
    "import torch.nn as nn\n",
    "from torch.utils.data import DataLoader, Dataset\n",
    "import numpy as np\n",
    "import os\n",
    "\n",
    "import tqdm"
   ],
   "metadata": {
    "execution": {
     "iopub.status.busy": "2022-11-23T11:41:43.877802Z",
     "iopub.execute_input": "2022-11-23T11:41:43.878171Z",
     "iopub.status.idle": "2022-11-23T11:41:43.884206Z",
     "shell.execute_reply.started": "2022-11-23T11:41:43.878134Z",
     "shell.execute_reply": "2022-11-23T11:41:43.882857Z"
    },
    "trusted": true
   },
   "execution_count": null,
   "outputs": []
  },
  {
   "cell_type": "code",
   "source": [
    "# some global variables\n",
    "train_data_path = '../input/ml2021spring-hw2/timit_11/timit_11/train_11.npy'\n",
    "train_label_path = '../input/ml2021spring-hw2/timit_11/timit_11/train_label_11.npy'\n",
    "test_data_path = '../input/ml2021spring-hw2/timit_11/timit_11/test_11.npy'\n",
    "\n",
    "batch_size = 2048\n",
    "lr = 0.0001 \n",
    "epochs = 200\n",
    "val_percent = 0.2\n",
    "n_classes = 39\n",
    "weight_decay = 0.0001 \n",
    "hidden_dim = 1024\n",
    "output_dim = n_classes\n",
    "hidden_num = 12\n",
    "\n",
    "need_ckpt = True"
   ],
   "metadata": {
    "execution": {
     "iopub.status.busy": "2022-11-23T11:41:43.885598Z",
     "iopub.execute_input": "2022-11-23T11:41:43.885973Z",
     "iopub.status.idle": "2022-11-23T11:41:43.900887Z",
     "shell.execute_reply.started": "2022-11-23T11:41:43.885942Z",
     "shell.execute_reply": "2022-11-23T11:41:43.898417Z"
    },
    "trusted": true
   },
   "execution_count": null,
   "outputs": []
  },
  {
   "cell_type": "markdown",
   "source": [
    "## Load data"
   ],
   "metadata": {}
  },
  {
   "cell_type": "code",
   "source": [
    "train_data = np.load(train_data_path)\n",
    "train_label = np.load(train_label_path)"
   ],
   "metadata": {
    "execution": {
     "iopub.status.busy": "2022-11-23T11:41:43.904100Z",
     "iopub.execute_input": "2022-11-23T11:41:43.904464Z",
     "iopub.status.idle": "2022-11-23T11:41:44.802307Z",
     "shell.execute_reply.started": "2022-11-23T11:41:43.904434Z",
     "shell.execute_reply": "2022-11-23T11:41:44.800087Z"
    },
    "trusted": true
   },
   "execution_count": null,
   "outputs": []
  },
  {
   "cell_type": "code",
   "source": [
    "print(\"train data size: \", train_data.shape)\n",
    "print(\"train label size: \", train_label.shape)\n",
    "\n",
    "n_train_tot = train_data.shape[0]\n",
    "n_val = int(n_train_tot * val_percent)\n",
    "n_train = n_train_tot - n_val\n",
    "\n",
    "train_x = train_data[:n_train]\n",
    "train_y = train_label[:n_train]\n",
    "val_x = train_data[n_train:]\n",
    "val_y = train_label[n_train:]\n",
    "# print(\"train set size: \", train_x.shape, train_y.shape)\n",
    "# print(\"validate set size: \", val_x.shape, val_y.shape)"
   ],
   "metadata": {
    "execution": {
     "iopub.status.busy": "2022-11-23T11:41:44.804232Z",
     "iopub.execute_input": "2022-11-23T11:41:44.804907Z",
     "iopub.status.idle": "2022-11-23T11:41:44.813101Z",
     "shell.execute_reply.started": "2022-11-23T11:41:44.804840Z",
     "shell.execute_reply": "2022-11-23T11:41:44.811953Z"
    },
    "trusted": true
   },
   "execution_count": null,
   "outputs": []
  },
  {
   "cell_type": "markdown",
   "source": [
    "# Define the dataset"
   ],
   "metadata": {}
  },
  {
   "cell_type": "code",
   "source": [
    "class TimitDataset(nn.Module):\n",
    "    def __init__(self, X, Y = None):\n",
    "        super().__init__()\n",
    "        self.X = torch.from_numpy(X)\n",
    "        if Y is not None:\n",
    "            self.Y = torch.LongTensor(Y.astype(np.int64))\n",
    "        else:\n",
    "            self.Y = None\n",
    "    \n",
    "    def __getitem__(self, index):\n",
    "        if self.Y is None:\n",
    "            return self.X[index]\n",
    "        else:\n",
    "            return self.X[index], self.Y[index]\n",
    "        \n",
    "    def __len__(self):\n",
    "        return self.X.shape[0]"
   ],
   "metadata": {
    "execution": {
     "iopub.status.busy": "2022-11-23T11:41:44.814405Z",
     "iopub.execute_input": "2022-11-23T11:41:44.814765Z",
     "iopub.status.idle": "2022-11-23T11:41:44.826731Z",
     "shell.execute_reply.started": "2022-11-23T11:41:44.814733Z",
     "shell.execute_reply": "2022-11-23T11:41:44.825675Z"
    },
    "trusted": true
   },
   "execution_count": null,
   "outputs": []
  },
  {
   "cell_type": "code",
   "source": [
    "train_set = TimitDataset(train_x, train_y) \n",
    "val_set = TimitDataset(val_x, val_y)\n",
    "\n",
    "print(\"train set size is:\", len(train_set))\n",
    "print(\"validate set size is:\", len(val_set))"
   ],
   "metadata": {
    "execution": {
     "iopub.status.busy": "2022-11-23T11:41:44.828720Z",
     "iopub.execute_input": "2022-11-23T11:41:44.829067Z",
     "iopub.status.idle": "2022-11-23T11:41:45.116896Z",
     "shell.execute_reply.started": "2022-11-23T11:41:44.829033Z",
     "shell.execute_reply": "2022-11-23T11:41:45.115020Z"
    },
    "trusted": true
   },
   "execution_count": null,
   "outputs": []
  },
  {
   "cell_type": "markdown",
   "source": [
    "# Do some GC"
   ],
   "metadata": {}
  },
  {
   "cell_type": "code",
   "source": [
    "import gc\n",
    "\n",
    "del train_data, train_label, train_x, train_y, val_x, val_y\n",
    "gc.collect()"
   ],
   "metadata": {
    "execution": {
     "iopub.status.busy": "2022-11-23T11:41:45.118935Z",
     "iopub.execute_input": "2022-11-23T11:41:45.119310Z",
     "iopub.status.idle": "2022-11-23T11:41:45.282736Z",
     "shell.execute_reply.started": "2022-11-23T11:41:45.119278Z",
     "shell.execute_reply": "2022-11-23T11:41:45.281026Z"
    },
    "trusted": true
   },
   "execution_count": null,
   "outputs": []
  },
  {
   "cell_type": "markdown",
   "source": [
    "# Define the model"
   ],
   "metadata": {}
  },
  {
   "cell_type": "code",
   "source": [
    "class BasicBlock(nn.Module):\n",
    "    def __init__(self, in_dim, out_dim):\n",
    "        super().__init__()\n",
    "        self.layers = nn.Sequential(\n",
    "            nn.Linear(in_dim, out_dim),\n",
    "            nn.BatchNorm1d(out_dim),\n",
    "            nn.ReLU()\n",
    "        )\n",
    "        \n",
    "    def forward(self, x):\n",
    "        return self.layers(x)\n",
    "\n",
    "class TimitModel(nn.Module):\n",
    "    def __init__(self, out_dim: int):\n",
    "        super().__init__()\n",
    "        \n",
    "        self.layers = nn.Sequential(\n",
    "            BasicBlock(429, 1024),\n",
    "            *[BasicBlock(1024, 1024) for _ in range(hidden_num)],\n",
    "            nn.Linear(1024, out_dim),\n",
    "            nn.Softmax(dim=1),\n",
    "        )\n",
    "        \n",
    "    def forward(self, x):\n",
    "        x = self.layers(x)\n",
    "        return x"
   ],
   "metadata": {
    "execution": {
     "iopub.status.busy": "2022-11-23T11:42:04.837990Z",
     "iopub.execute_input": "2022-11-23T11:42:04.838374Z",
     "iopub.status.idle": "2022-11-23T11:42:04.849891Z",
     "shell.execute_reply.started": "2022-11-23T11:42:04.838347Z",
     "shell.execute_reply": "2022-11-23T11:42:04.847905Z"
    },
    "trusted": true
   },
   "execution_count": null,
   "outputs": []
  },
  {
   "cell_type": "markdown",
   "source": [
    "# Training"
   ],
   "metadata": {}
  },
  {
   "cell_type": "code",
   "source": [
    "def save_ckpt(model: nn.Module, epoch:int, loss:float):\n",
    "    print('save ckpt, epoch = {}, loss = {}'.format(epoch, loss))\n",
    "    torch.save(model.state_dict(), 'ckpt_epoch_{}_loss_{}.pth'.format(epoch, loss))"
   ],
   "metadata": {
    "execution": {
     "iopub.status.busy": "2022-11-23T11:41:45.300549Z",
     "iopub.status.idle": "2022-11-23T11:41:45.301058Z",
     "shell.execute_reply.started": "2022-11-23T11:41:45.300832Z",
     "shell.execute_reply": "2022-11-23T11:41:45.300852Z"
    },
    "trusted": true
   },
   "execution_count": null,
   "outputs": []
  },
  {
   "cell_type": "markdown",
   "source": [
    "# Fix random seeds for reproducibility"
   ],
   "metadata": {}
  },
  {
   "cell_type": "code",
   "source": [
    "# fix random seed\n",
    "def same_seeds(seed):\n",
    "    torch.manual_seed(seed)\n",
    "    if torch.cuda.is_available():\n",
    "        torch.cuda.manual_seed(seed)\n",
    "        torch.cuda.manual_seed_all(seed)  \n",
    "    np.random.seed(seed)  \n",
    "    torch.backends.cudnn.benchmark = False\n",
    "    torch.backends.cudnn.deterministic = True\n",
    "    \n",
    "same_seeds(0)"
   ],
   "metadata": {
    "execution": {
     "iopub.status.busy": "2022-11-23T11:41:45.303382Z",
     "iopub.status.idle": "2022-11-23T11:41:45.303933Z",
     "shell.execute_reply.started": "2022-11-23T11:41:45.303709Z",
     "shell.execute_reply": "2022-11-23T11:41:45.303735Z"
    },
    "trusted": true
   },
   "execution_count": null,
   "outputs": []
  },
  {
   "cell_type": "code",
   "source": [
    "device = torch.device('cuda' if torch.cuda.is_available() else 'cpu')\n",
    "model = TimitModel(output_dim)\n",
    "print(model)\n",
    "\n",
    "model.to(device)\n",
    "\n",
    "# load pth\n",
    "if os.path.exists(\"best_model.pth\"):\n",
    "    model.load_state_dict(torch.load('best_model.pth', map_location=device))\n",
    "\n",
    "opt = torch.optim.Adam(model.parameters(), lr=lr, weight_decay=weight_decay)\n",
    "scheduler = torch.optim.lr_scheduler.CosineAnnealingLR(opt, int(1e10), eta_min=1e-5)\n",
    "criterion = nn.CrossEntropyLoss()\n",
    "\n",
    "train_loader = DataLoader(dataset=train_set, batch_size=batch_size, shuffle=True)\n",
    "val_loader = DataLoader(dataset=val_set, batch_size=batch_size, shuffle=False)\n",
    "\n",
    "# read loss\n",
    "best_loss = float('inf')\n",
    "if os.path.exists('best_loss.txt'):\n",
    "    with open('best_loss.txt', mode='r') as f:\n",
    "        best_loss = float(f.readline())\n",
    "        print(\"read best loss:\", best_loss)\n",
    "\n",
    "for epoch in range(epochs):\n",
    "    model.train()\n",
    "    if epoch % 50 == 0:\n",
    "        print('trainning...epoch = %d' % epoch)\n",
    "    train_tot_loss = 0\n",
    "    train_tot_acc = 0\n",
    "    for x, y in train_loader:\n",
    "        opt.zero_grad()\n",
    "\n",
    "        x = x.to(device=device, dtype=torch.float32)\n",
    "        y_true = y.to(device=device)\n",
    "        y_pred = model(x)\n",
    "        # compute loss\n",
    "        loss = criterion(y_pred, y_true)\n",
    "\n",
    "        train_tot_loss += loss.item()\n",
    "        _, pred_classes = torch.max(y_pred, 1)\n",
    "        train_tot_acc += (pred_classes.cpu() == y_true.cpu()).sum().item()\n",
    "        # update\n",
    "        loss.backward()\n",
    "        opt.step()\n",
    "        scheduler.step()\n",
    "              \n",
    "    print('Avg Loss/train:', train_tot_loss / len(train_loader))\n",
    "    print('Avg Acc/train:', train_tot_acc / len(train_set))\n",
    "        \n",
    "    if len(val_loader) > 0:\n",
    "        val_tot_loss = 0\n",
    "        with torch.no_grad():\n",
    "            for x, y in val_loader:\n",
    "                x = x.to(device=device, dtype=torch.float32)\n",
    "                y_true = y.to(device=device)\n",
    "                y_pred = model(x)\n",
    "                val_tot_loss += criterion(y_pred, y_true).item()\n",
    "                \n",
    "        val_loss = val_tot_loss / len(val_loader)        \n",
    "        if val_loss < best_loss:\n",
    "            print('Avg Loss/Validate:', val_loss)\n",
    "            with open('best_loss.txt', mode='w') as f:\n",
    "                f.write(str(val_loss))\n",
    "            best_loss = val_loss\n",
    "            torch.save(model.state_dict(), 'best_model.pth')\n",
    "    \n",
    "    if need_ckpt and epoch % 5 == 0:\n",
    "        save_ckpt(model, epoch, train_tot_loss / len(train_loader))\n",
    "    "
   ],
   "metadata": {
    "execution": {
     "iopub.status.busy": "2022-11-23T11:41:45.305364Z",
     "iopub.status.idle": "2022-11-23T11:41:45.305795Z",
     "shell.execute_reply.started": "2022-11-23T11:41:45.305589Z",
     "shell.execute_reply": "2022-11-23T11:41:45.305607Z"
    },
    "trusted": true
   },
   "execution_count": null,
   "outputs": []
  },
  {
   "cell_type": "code",
   "source": "test_model = TimitModel(output_dim)\ntest_model.load_state_dict(torch.load('best_model.pth', map_location=device))\ntest_model.to(device)\ntest_model.eval()\n\ntest_data = np.load(test_data_path)\nprint(\"test data size:\", test_data.shape)\ntest_set = TimitDataset(test_data)\ntest_loader = DataLoader(dataset=test_set, batch_size=1, shuffle=False)",
   "metadata": {
    "execution": {
     "iopub.status.busy": "2022-11-23T11:41:45.307019Z",
     "iopub.status.idle": "2022-11-23T11:41:45.307376Z",
     "shell.execute_reply.started": "2022-11-23T11:41:45.307214Z",
     "shell.execute_reply": "2022-11-23T11:41:45.307230Z"
    },
    "trusted": true
   },
   "execution_count": null,
   "outputs": []
  },
  {
   "cell_type": "markdown",
   "source": "# Testing",
   "metadata": {}
  },
  {
   "cell_type": "code",
   "source": "classes = []\nwith torch.no_grad():\n    for x in test_loader:\n        x = x.to(device=device, dtype=torch.float32)\n        y_pred = test_model(x)\n        _, pred_classes = torch.max(y_pred, 1)\n        classes.append(pred_classes[0].item())",
   "metadata": {
    "execution": {
     "iopub.status.busy": "2022-11-23T11:41:45.309439Z",
     "iopub.status.idle": "2022-11-23T11:41:45.309887Z",
     "shell.execute_reply.started": "2022-11-23T11:41:45.309661Z",
     "shell.execute_reply": "2022-11-23T11:41:45.309681Z"
    },
    "trusted": true
   },
   "execution_count": null,
   "outputs": []
  },
  {
   "cell_type": "code",
   "source": "import pandas as pd\ndf = pd.DataFrame({'Class': classes})\ndf.index.name = 'Id'\ndf.to_csv('submission.csv')",
   "metadata": {
    "execution": {
     "iopub.status.busy": "2022-11-23T11:41:45.311122Z",
     "iopub.status.idle": "2022-11-23T11:41:45.311473Z",
     "shell.execute_reply.started": "2022-11-23T11:41:45.311302Z",
     "shell.execute_reply": "2022-11-23T11:41:45.311318Z"
    },
    "trusted": true
   },
   "execution_count": null,
   "outputs": []
  }
 ]
}